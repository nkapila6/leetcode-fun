{
 "cells": [
  {
   "cell_type": "code",
   "execution_count": 68,
   "id": "1e7182a7-a672-47bf-8769-68f623dbf234",
   "metadata": {
    "ExecuteTime": {
     "end_time": "2024-04-29T08:59:07.171857Z",
     "start_time": "2024-04-29T08:59:07.169221Z"
    }
   },
   "outputs": [],
   "source": [
    "# %reset"
   ]
  },
  {
   "cell_type": "code",
   "execution_count": 69,
   "id": "9b1659c9-ba7f-4cc3-a9c8-6fdbff9f8ef2",
   "metadata": {
    "ExecuteTime": {
     "end_time": "2024-04-29T08:59:07.174389Z",
     "start_time": "2024-04-29T08:59:07.172853Z"
    }
   },
   "outputs": [],
   "source": [
    "class ListNode:\n",
    "    def __init__(self, val=0, next=None):\n",
    "        self.val = val\n",
    "        self.next = next"
   ]
  },
  {
   "cell_type": "code",
   "execution_count": 90,
   "outputs": [],
   "source": [
    "def addTwoNumbers(l1: ListNode, l2: ListNode):\n",
    "        # this is a hack-job solution :)\n",
    "        # extract the numbers from linkedlists into a string -> int\n",
    "        # add the numbers and convert into str\n",
    "        # represent each bit as a LL node\n",
    "\n",
    "        # extracting info out of linky list\n",
    "        ll1_num, ll2_num = str(), str()\n",
    "        while l1:\n",
    "            ll1_num = ll1_num + str(l1.val)\n",
    "            l1 = l1.next\n",
    "\n",
    "        while l2:\n",
    "            ll2_num = ll2_num + str(l2.val)\n",
    "            l2 = l2.next\n",
    "        \n",
    "        # reverse strings\n",
    "        ll1_num = ll1_num[::-1]\n",
    "        ll2_num = ll2_num[::-1]\n",
    "        \n",
    "        print(ll1_num, ll2_num)\n",
    "        \n",
    "        # add numbers and reverse\n",
    "        ll3_num = str(int(ll1_num)+int(ll2_num))\n",
    "        ll3_num = ll3_num[::-1]\n",
    "        \n",
    "        print(ll3_num)\n",
    "        # create linked list\n",
    "        l3 = createLL_int(ll3_num)\n",
    "        print(l3.val)\n",
    "        print(l3.next.val)\n",
    "        print(l3.next.next.val)\n",
    "        # print(, l3.next.next.next.val)\n",
    "        return l3"
   ],
   "metadata": {
    "collapsed": false,
    "ExecuteTime": {
     "end_time": "2024-04-29T09:00:22.322682Z",
     "start_time": "2024-04-29T09:00:22.318493Z"
    }
   },
   "id": "fbf86c3d147f0166"
  },
  {
   "cell_type": "code",
   "execution_count": 98,
   "id": "43697fc0-054f-4ddf-9aa2-1a8b788c97f6",
   "metadata": {
    "ExecuteTime": {
     "end_time": "2024-04-29T09:00:52.513358Z",
     "start_time": "2024-04-29T09:00:52.510833Z"
    }
   },
   "outputs": [],
   "source": [
    "def printLL(head: ListNode):\n",
    "    current = head\n",
    "    while current:\n",
    "        print(current.val)\n",
    "        current = current.next"
   ]
  },
  {
   "cell_type": "code",
   "execution_count": 99,
   "outputs": [],
   "source": [
    "def createLL_int(num: str):\n",
    "    head = ListNode()\n",
    "    current = head\n",
    "    previous = head\n",
    "\n",
    "    for x in num:\n",
    "        current.val = int(x)\n",
    "        previous = current\n",
    "        new = ListNode()\n",
    "        current.next = new\n",
    "        current = new\n",
    "    previous.next = None\n",
    "    \n",
    "    return head"
   ],
   "metadata": {
    "collapsed": false,
    "ExecuteTime": {
     "end_time": "2024-04-29T09:03:07.376839Z",
     "start_time": "2024-04-29T09:03:07.375185Z"
    }
   },
   "id": "94cac4ae4c37ed9b"
  },
  {
   "cell_type": "code",
   "execution_count": 114,
   "id": "bda051d3-d13c-4a1f-8c83-34a96e356cfd",
   "metadata": {
    "ExecuteTime": {
     "end_time": "2024-04-29T09:31:24.506885Z",
     "start_time": "2024-04-29T09:31:24.504781Z"
    }
   },
   "outputs": [],
   "source": [
    "def createLL(num: str):\n",
    "    head = ListNode()\n",
    "    current = head\n",
    "    previous = head\n",
    "\n",
    "    for x in num:\n",
    "        current.val = int(x)\n",
    "        print(x, current)\n",
    "        previous = current\n",
    "        new = ListNode()\n",
    "        current.next = new\n",
    "        current = new\n",
    "        print(f\"Am I pointing correctly? {current}\"\n",
    "              f\"\\nIgnore the last one, it's added later\")\n",
    "    previous.next = None\n",
    "    print(f\"Last one: {previous.next}\")\n",
    "    return head"
   ]
  },
  {
   "cell_type": "code",
   "execution_count": 115,
   "outputs": [],
   "source": [
    "ll1_num, ll2_num = '56', '549'"
   ],
   "metadata": {
    "collapsed": false,
    "ExecuteTime": {
     "end_time": "2024-04-29T09:31:24.833536Z",
     "start_time": "2024-04-29T09:31:24.830275Z"
    }
   },
   "id": "177200b305892883"
  },
  {
   "cell_type": "code",
   "execution_count": 116,
   "id": "dfbe99d7-bbb6-4db3-9363-bf002d067099",
   "metadata": {
    "ExecuteTime": {
     "end_time": "2024-04-29T09:31:25.276407Z",
     "start_time": "2024-04-29T09:31:25.273466Z"
    }
   },
   "outputs": [
    {
     "name": "stdout",
     "output_type": "stream",
     "text": [
      "5 <__main__.ListNode object at 0x105d84bf0>\n",
      "Am I pointing correctly? <__main__.ListNode object at 0x105d4e600>\n",
      "Ignore the last one, it's added later\n",
      "6 <__main__.ListNode object at 0x105d4e600>\n",
      "Am I pointing correctly? <__main__.ListNode object at 0x105d4f0b0>\n",
      "Ignore the last one, it's added later\n",
      "Last one: None\n"
     ]
    }
   ],
   "source": [
    "ll1 = createLL(ll1_num)"
   ]
  },
  {
   "cell_type": "code",
   "execution_count": 117,
   "id": "eba05ab2-92f3-4bfb-846f-79f2cc055ff8",
   "metadata": {
    "ExecuteTime": {
     "end_time": "2024-04-29T09:31:29.528096Z",
     "start_time": "2024-04-29T09:31:29.524524Z"
    }
   },
   "outputs": [
    {
     "name": "stdout",
     "output_type": "stream",
     "text": [
      "5 <__main__.ListNode object at 0x105d83e60>\n",
      "Am I pointing correctly? <__main__.ListNode object at 0x105d4e5d0>\n",
      "Ignore the last one, it's added later\n",
      "4 <__main__.ListNode object at 0x105d4e5d0>\n",
      "Am I pointing correctly? <__main__.ListNode object at 0x105d4eff0>\n",
      "Ignore the last one, it's added later\n",
      "9 <__main__.ListNode object at 0x105d4eff0>\n",
      "Am I pointing correctly? <__main__.ListNode object at 0x105d4f020>\n",
      "Ignore the last one, it's added later\n",
      "Last one: None\n"
     ]
    }
   ],
   "source": [
    "ll2 = createLL(ll2_num)"
   ]
  },
  {
   "cell_type": "code",
   "execution_count": 118,
   "outputs": [
    {
     "name": "stdout",
     "output_type": "stream",
     "text": [
      "65 945\n",
      "0101\n",
      "0\n",
      "1\n",
      "0\n"
     ]
    }
   ],
   "source": [
    "new = addTwoNumbers(ll1,ll2)"
   ],
   "metadata": {
    "collapsed": false,
    "ExecuteTime": {
     "end_time": "2024-04-29T09:31:30.299805Z",
     "start_time": "2024-04-29T09:31:30.296907Z"
    }
   },
   "id": "5765613fc9753f5"
  },
  {
   "cell_type": "code",
   "execution_count": 119,
   "outputs": [
    {
     "name": "stdout",
     "output_type": "stream",
     "text": [
      "0\n",
      "1\n",
      "0\n",
      "1\n"
     ]
    }
   ],
   "source": [
    "printLL(new)"
   ],
   "metadata": {
    "collapsed": false,
    "ExecuteTime": {
     "end_time": "2024-04-29T09:31:31.545377Z",
     "start_time": "2024-04-29T09:31:31.542531Z"
    }
   },
   "id": "4dedbabc4923435a"
  }
 ],
 "metadata": {
  "kernelspec": {
   "display_name": "Python 3 (ipykernel)",
   "language": "python",
   "name": "python3"
  },
  "language_info": {
   "codemirror_mode": {
    "name": "ipython",
    "version": 3
   },
   "file_extension": ".py",
   "mimetype": "text/x-python",
   "name": "python",
   "nbconvert_exporter": "python",
   "pygments_lexer": "ipython3",
   "version": "3.12.2"
  }
 },
 "nbformat": 4,
 "nbformat_minor": 5
}
